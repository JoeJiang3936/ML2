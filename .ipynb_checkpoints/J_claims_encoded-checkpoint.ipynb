{
 "cells": [
  {
   "cell_type": "code",
   "execution_count": 1,
   "metadata": {},
   "outputs": [
    {
     "name": "stderr",
     "output_type": "stream",
     "text": [
      "C:\\Users\\yanli\\Anaconda3\\lib\\site-packages\\IPython\\core\\interactiveshell.py:3020: DtypeWarning: Columns (6,12,13,14,15,16,17,25,27,28) have mixed types. Specify dtype option on import or set low_memory=False.\n",
      "  interactivity=interactivity, compiler=compiler, result=result)\n"
     ]
    }
   ],
   "source": [
    "import pandas as pd\n",
    "import numpy as np\n",
    "df = pd.read_csv('claim.sample.csv', delimiter = ',', na_values=[' '])\n",
    "#if you go back to the csv file, all missing cells have one space in them, initially I was really buffled by no missing values "
   ]
  },
  {
   "cell_type": "code",
   "execution_count": 2,
   "metadata": {},
   "outputs": [
    {
     "data": {
      "text/plain": [
       "(472559, 29)"
      ]
     },
     "execution_count": 2,
     "metadata": {},
     "output_type": "execute_result"
    }
   ],
   "source": [
    "df.shape"
   ]
  },
  {
   "cell_type": "code",
   "execution_count": 3,
   "metadata": {},
   "outputs": [
    {
     "name": "stdout",
     "output_type": "stream",
     "text": [
      "<class 'pandas.core.frame.DataFrame'>\n",
      "RangeIndex: 472559 entries, 0 to 472558\n",
      "Data columns (total 29 columns):\n",
      "V1                           472559 non-null int64\n",
      "Claim.Number                 472559 non-null float64\n",
      "Claim.Line.Number            472559 non-null int64\n",
      "Member.ID                    472559 non-null int64\n",
      "Provider.ID                  472559 non-null object\n",
      "Line.Of.Business.ID          265050 non-null float64\n",
      "Revenue.Code                 472203 non-null object\n",
      "Service.Code                 472013 non-null object\n",
      "Place.Of.Service.Code        403 non-null float64\n",
      "Procedure.Code               296928 non-null object\n",
      "Diagnosis.Code               472559 non-null object\n",
      "Claim.Charge.Amount          472559 non-null float64\n",
      "Denial.Reason.Code           146529 non-null object\n",
      "Price.Index                  247800 non-null object\n",
      "In.Out.Of.Network            267637 non-null object\n",
      "Reference.Index              270462 non-null object\n",
      "Pricing.Index                270462 non-null object\n",
      "Capitation.Index             158146 non-null object\n",
      "Subscriber.Payment.Amount    472559 non-null float64\n",
      "Provider.Payment.Amount      472559 non-null float64\n",
      "Group.Index                  472559 non-null int64\n",
      "Subscriber.Index             472559 non-null int64\n",
      "Subgroup.Index               472559 non-null int64\n",
      "Claim.Type                   472559 non-null object\n",
      "Claim.Subscriber.Type        472559 non-null object\n",
      "Claim.Pre.Prince.Index       89036 non-null object\n",
      "Claim.Current.Status         472559 non-null int64\n",
      "Network.ID                   265974 non-null object\n",
      "Agreement.ID                 268303 non-null object\n",
      "dtypes: float64(6), int64(7), object(16)\n",
      "memory usage: 104.6+ MB\n"
     ]
    }
   ],
   "source": [
    "#data types for each columns and missing data \n",
    "df.info()"
   ]
  },
  {
   "cell_type": "code",
   "execution_count": 4,
   "metadata": {},
   "outputs": [],
   "source": [
    "#subset the dataframe to get the J-code claims\n",
    "df = df[df['Procedure.Code'].notna()]\n",
    "J_claims_df = df[df['Procedure.Code'].str.startswith('J')]"
   ]
  },
  {
   "cell_type": "code",
   "execution_count": 5,
   "metadata": {},
   "outputs": [
    {
     "data": {
      "text/plain": [
       "(51029, 29)"
      ]
     },
     "execution_count": 5,
     "metadata": {},
     "output_type": "execute_result"
    }
   ],
   "source": [
    "#number of J-code claims\n",
    "J_claims_df.shape"
   ]
  },
  {
   "cell_type": "code",
   "execution_count": 6,
   "metadata": {},
   "outputs": [
    {
     "name": "stderr",
     "output_type": "stream",
     "text": [
      "C:\\Users\\yanli\\Anaconda3\\lib\\site-packages\\ipykernel_launcher.py:2: SettingWithCopyWarning: \n",
      "A value is trying to be set on a copy of a slice from a DataFrame.\n",
      "Try using .loc[row_indexer,col_indexer] = value instead\n",
      "\n",
      "See the caveats in the documentation: http://pandas.pydata.org/pandas-docs/stable/indexing.html#indexing-view-versus-copy\n",
      "  \n",
      "C:\\Users\\yanli\\Anaconda3\\lib\\site-packages\\ipykernel_launcher.py:3: SettingWithCopyWarning: \n",
      "A value is trying to be set on a copy of a slice from a DataFrame.\n",
      "Try using .loc[row_indexer,col_indexer] = value instead\n",
      "\n",
      "See the caveats in the documentation: http://pandas.pydata.org/pandas-docs/stable/indexing.html#indexing-view-versus-copy\n",
      "  This is separate from the ipykernel package so we can avoid doing imports until\n"
     ]
    }
   ],
   "source": [
    "#generate the labels \n",
    "J_claims_df['Provider.Payment.Amount'] = J_claims_df['Provider.Payment.Amount'] > 0 \n",
    "J_claims_df['Provider.Payment.Amount'] = J_claims_df['Provider.Payment.Amount'].astype(int)"
   ]
  },
  {
   "cell_type": "code",
   "execution_count": 7,
   "metadata": {},
   "outputs": [
    {
     "data": {
      "text/plain": [
       "V1                               0\n",
       "Claim.Number                     0\n",
       "Claim.Line.Number                0\n",
       "Member.ID                        0\n",
       "Provider.ID                      0\n",
       "Line.Of.Business.ID          18962\n",
       "Revenue.Code                     2\n",
       "Service.Code                    59\n",
       "Place.Of.Service.Code        51027\n",
       "Procedure.Code                   0\n",
       "Diagnosis.Code                   0\n",
       "Claim.Charge.Amount              0\n",
       "Denial.Reason.Code           40417\n",
       "Price.Index                  21170\n",
       "In.Out.Of.Network            18980\n",
       "Reference.Index              18666\n",
       "Pricing.Index                18666\n",
       "Capitation.Index             32331\n",
       "Subscriber.Payment.Amount        0\n",
       "Provider.Payment.Amount          0\n",
       "Group.Index                      0\n",
       "Subscriber.Index                 0\n",
       "Subgroup.Index                   0\n",
       "Claim.Type                       0\n",
       "Claim.Subscriber.Type            0\n",
       "Claim.Pre.Prince.Index       39996\n",
       "Claim.Current.Status             0\n",
       "Network.ID                   19063\n",
       "Agreement.ID                 18905\n",
       "dtype: int64"
      ]
     },
     "execution_count": 7,
     "metadata": {},
     "output_type": "execute_result"
    }
   ],
   "source": [
    "#checking for missing values\n",
    "J_claims_df.isnull().sum()"
   ]
  },
  {
   "cell_type": "code",
   "execution_count": 8,
   "metadata": {},
   "outputs": [
    {
     "name": "stdout",
     "output_type": "stream",
     "text": [
      "V1 51029\n",
      "Claim.Number 10691\n",
      "Claim.Line.Number 121\n",
      "Member.ID 6341\n",
      "Provider.ID 15\n",
      "Line.Of.Business.ID 6\n",
      "Revenue.Code 17\n",
      "Service.Code 12\n",
      "Place.Of.Service.Code 2\n",
      "Procedure.Code 202\n",
      "Diagnosis.Code 1436\n",
      "Claim.Charge.Amount 3634\n",
      "Denial.Reason.Code 100\n",
      "Price.Index 3\n",
      "In.Out.Of.Network 3\n",
      "Reference.Index 4\n",
      "Pricing.Index 4\n",
      "Capitation.Index 3\n",
      "Subscriber.Payment.Amount 2\n",
      "Provider.Payment.Amount 2\n",
      "Group.Index 781\n",
      "Subscriber.Index 6243\n",
      "Subgroup.Index 790\n",
      "Claim.Type 2\n",
      "Claim.Subscriber.Type 2\n",
      "Claim.Pre.Prince.Index 3\n",
      "Claim.Current.Status 9\n",
      "Network.ID 15\n",
      "Agreement.ID 22\n"
     ]
    }
   ],
   "source": [
    "#checking for levels in each columns\n",
    "for c in J_claims_df.columns:\n",
    "    print(c, len(J_claims_df[c].unique()))"
   ]
  },
  {
   "cell_type": "code",
   "execution_count": 9,
   "metadata": {},
   "outputs": [],
   "source": [
    "#from above, dropping some columns that are likely not useful for the model... my own educated guess here\n",
    "J_claims_df = J_claims_df.drop(columns = ['V1', 'Claim.Number', 'Claim.Line.Number', 'Member.ID', 'Place.Of.Service.Code', 'Group.Index', 'Subscriber.Index'])"
   ]
  },
  {
   "cell_type": "code",
   "execution_count": 10,
   "metadata": {},
   "outputs": [],
   "source": [
    "#from the profiling, I will drop Subscriber.Payment.Amount column because there is only one claim has a value different from 0.\n",
    "J_claims_df = J_claims_df.drop(columns = ['Subscriber.Payment.Amount'])"
   ]
  },
  {
   "cell_type": "code",
   "execution_count": 11,
   "metadata": {},
   "outputs": [
    {
     "name": "stdout",
     "output_type": "stream",
     "text": [
      "<class 'pandas.core.frame.DataFrame'>\n",
      "Int64Index: 51029 entries, 3073 to 472463\n",
      "Data columns (total 21 columns):\n",
      "Provider.ID                51029 non-null object\n",
      "Line.Of.Business.ID        32067 non-null float64\n",
      "Revenue.Code               51027 non-null object\n",
      "Service.Code               50970 non-null object\n",
      "Procedure.Code             51029 non-null object\n",
      "Diagnosis.Code             51029 non-null object\n",
      "Claim.Charge.Amount        51029 non-null float64\n",
      "Denial.Reason.Code         10612 non-null object\n",
      "Price.Index                29859 non-null object\n",
      "In.Out.Of.Network          32049 non-null object\n",
      "Reference.Index            32363 non-null object\n",
      "Pricing.Index              32363 non-null object\n",
      "Capitation.Index           18698 non-null object\n",
      "Provider.Payment.Amount    51029 non-null int32\n",
      "Subgroup.Index             51029 non-null int64\n",
      "Claim.Type                 51029 non-null object\n",
      "Claim.Subscriber.Type      51029 non-null object\n",
      "Claim.Pre.Prince.Index     11033 non-null object\n",
      "Claim.Current.Status       51029 non-null int64\n",
      "Network.ID                 31966 non-null object\n",
      "Agreement.ID               32124 non-null object\n",
      "dtypes: float64(2), int32(1), int64(2), object(16)\n",
      "memory usage: 8.4+ MB\n"
     ]
    }
   ],
   "source": [
    "#check the datatype again\n",
    "J_claims_df.info()"
   ]
  },
  {
   "cell_type": "code",
   "execution_count": 12,
   "metadata": {},
   "outputs": [],
   "source": [
    "#Cast the following columns as categorical\n",
    "for c in ['Line.Of.Business.ID','Subgroup.Index', 'Claim.Current.Status']:\n",
    "    J_claims_df[c] = J_claims_df[c].astype(str) "
   ]
  },
  {
   "cell_type": "code",
   "execution_count": 13,
   "metadata": {},
   "outputs": [],
   "source": [
    "#Impute two columns, Revenue.Code and Service.Code, with their mode \n",
    "for column in ['Revenue.Code', 'Service.Code']:\n",
    "    J_claims_df[column].fillna(J_claims_df[column].mode()[0], inplace=True)"
   ]
  },
  {
   "cell_type": "code",
   "execution_count": 14,
   "metadata": {},
   "outputs": [],
   "source": [
    "#fill the rest NAs with 'None' as its own category \n",
    "J_claims_df.fillna('None', inplace = True)"
   ]
  },
  {
   "cell_type": "code",
   "execution_count": 15,
   "metadata": {},
   "outputs": [
    {
     "data": {
      "text/plain": [
       "Provider.ID                0\n",
       "Line.Of.Business.ID        0\n",
       "Revenue.Code               0\n",
       "Service.Code               0\n",
       "Procedure.Code             0\n",
       "Diagnosis.Code             0\n",
       "Claim.Charge.Amount        0\n",
       "Denial.Reason.Code         0\n",
       "Price.Index                0\n",
       "In.Out.Of.Network          0\n",
       "Reference.Index            0\n",
       "Pricing.Index              0\n",
       "Capitation.Index           0\n",
       "Provider.Payment.Amount    0\n",
       "Subgroup.Index             0\n",
       "Claim.Type                 0\n",
       "Claim.Subscriber.Type      0\n",
       "Claim.Pre.Prince.Index     0\n",
       "Claim.Current.Status       0\n",
       "Network.ID                 0\n",
       "Agreement.ID               0\n",
       "dtype: int64"
      ]
     },
     "execution_count": 15,
     "metadata": {},
     "output_type": "execute_result"
    }
   ],
   "source": [
    "#check the df for missing value again\n",
    "J_claims_df.isnull().sum()"
   ]
  },
  {
   "cell_type": "code",
   "execution_count": 16,
   "metadata": {},
   "outputs": [
    {
     "name": "stdout",
     "output_type": "stream",
     "text": [
      "Provider.ID 15\n",
      "Line.Of.Business.ID 6\n",
      "Revenue.Code 16\n",
      "Service.Code 11\n",
      "Procedure.Code 202\n",
      "Diagnosis.Code 1436\n",
      "Claim.Charge.Amount 3634\n",
      "Denial.Reason.Code 100\n",
      "Price.Index 3\n",
      "In.Out.Of.Network 3\n",
      "Reference.Index 4\n",
      "Pricing.Index 4\n",
      "Capitation.Index 3\n",
      "Provider.Payment.Amount 2\n",
      "Subgroup.Index 790\n",
      "Claim.Type 2\n",
      "Claim.Subscriber.Type 2\n",
      "Claim.Pre.Prince.Index 3\n",
      "Claim.Current.Status 9\n",
      "Network.ID 15\n",
      "Agreement.ID 22\n"
     ]
    }
   ],
   "source": [
    "#checking for levels in each columns\n",
    "for c in J_claims_df.columns:\n",
    "    print(c, len(J_claims_df[c].unique()))"
   ]
  },
  {
   "cell_type": "code",
   "execution_count": 17,
   "metadata": {},
   "outputs": [
    {
     "data": {
      "text/plain": [
       "(51029, 21)"
      ]
     },
     "execution_count": 17,
     "metadata": {},
     "output_type": "execute_result"
    }
   ],
   "source": [
    "J_claims_df.shape"
   ]
  },
  {
   "cell_type": "code",
   "execution_count": 18,
   "metadata": {},
   "outputs": [],
   "source": [
    "#labels\n",
    "labels = J_claims_df['Provider.Payment.Amount']"
   ]
  },
  {
   "cell_type": "code",
   "execution_count": 19,
   "metadata": {},
   "outputs": [],
   "source": [
    "#one hot encoding diagnosis code\n",
    "DC_encoded = pd.get_dummies(J_claims_df['Diagnosis.Code'], prefix = 'DC')\n",
    "DC_encoded = DC_encoded[['DC_V5811', 'DC_5856', 'DC_29689', 'DC_64403', 'DC_27900', 'DC_5559',\n",
    "       'DC_64893', 'DC_29653', 'DC_28731', 'DC_34690', 'DC_27903', 'DC_5552',\n",
    "       'DC_2859', 'DC_65983', 'DC_78701', 'DC_7840', 'DC_35800', 'DC_99675',\n",
    "       'DC_7212', 'DC_6823', 'DC_23873', 'DC_81305', 'DC_40301', 'DC_V5812',\n",
    "       'DC_59010', 'DC_25002', 'DC_4660', 'DC_7323', 'DC_2727', 'DC_33819',\n",
    "       'DC_7140', 'DC_20400', 'DC_78703', 'DC_7880', 'DC_6929', 'DC_2853',\n",
    "       'DC_29680', 'DC_99741', 'DC_64413', 'DC_20280', 'DC_5550', 'DC_V7283',\n",
    "       'DC_78909', 'DC_64303', 'DC_66624', 'DC_55090', 'DC_7291', 'DC_78060',\n",
    "       'DC_64623', 'DC_38611', 'DC_53530', 'DC_56942', 'DC_6185', 'DC_64233',\n",
    "       'DC_8363', 'DC_V2889', 'DC_64193', 'DC_1628', 'DC_2809', 'DC_7455',\n",
    "       'DC_6930', 'DC_81301', 'DC_9110', 'DC_71535', 'DC_5566', 'DC_37487',\n",
    "       'DC_8449', 'DC_481', 'DC_29643', 'DC_64683', 'DC_V7651', 'DC_73018',\n",
    "       'DC_80701', 'DC_56032', 'DC_1820', 'DC_78904', 'DC_4610', 'DC_64663',\n",
    "       'DC_49122', 'DC_340', 'DC_7866', 'DC_73342', 'DC_68100', 'DC_7592',\n",
    "       'DC_V571', 'DC_49392', 'DC_37400', 'DC_99889', 'DC_78900', 'DC_34580',\n",
    "       'DC_37433', 'DC_3419', 'DC_7804', 'DC_47819', 'DC_71940', 'DC_6089',\n",
    "       'DC_25000', 'DC_83200', 'DC_35781', 'DC_78606']]"
   ]
  },
  {
   "cell_type": "code",
   "execution_count": 20,
   "metadata": {},
   "outputs": [
    {
     "data": {
      "text/plain": [
       "(51029, 100)"
      ]
     },
     "execution_count": 20,
     "metadata": {},
     "output_type": "execute_result"
    }
   ],
   "source": [
    "DC_encoded.shape"
   ]
  },
  {
   "cell_type": "code",
   "execution_count": 21,
   "metadata": {},
   "outputs": [],
   "source": [
    "#drop subgroup.index and dignosis code, labels  then one hot encoding\n",
    "J_claims_df = J_claims_df.drop(columns = ['Subgroup.Index', 'Diagnosis.Code', 'Provider.Payment.Amount'])\n",
    "train_dummy = pd.get_dummies(J_claims_df)\n",
    "\n",
    "#concat the top 100 features from diagnosis code, data-train\n",
    "train = pd.concat([train_dummy, DC_encoded], axis = 1)"
   ]
  },
  {
   "cell_type": "code",
   "execution_count": 22,
   "metadata": {},
   "outputs": [
    {
     "data": {
      "text/plain": [
       "(51029, 521)"
      ]
     },
     "execution_count": 22,
     "metadata": {},
     "output_type": "execute_result"
    }
   ],
   "source": [
    "train.shape"
   ]
  },
  {
   "cell_type": "code",
   "execution_count": 29,
   "metadata": {},
   "outputs": [],
   "source": [
    "train.to_csv('J_claims.csv', index = False)"
   ]
  },
  {
   "cell_type": "code",
   "execution_count": 23,
   "metadata": {},
   "outputs": [
    {
     "data": {
      "text/plain": [
       "0.9728044659600855"
      ]
     },
     "execution_count": 23,
     "metadata": {},
     "output_type": "execute_result"
    }
   ],
   "source": [
    "from sklearn.metrics import *\n",
    "from sklearn.model_selection import train_test_split\n",
    "from sklearn.ensemble import RandomForestClassifier\n",
    "\n",
    "#split into train and valid datset\n",
    "X_train, X_valid, y_train, y_valid = train_test_split(train, labels, test_size=0.10, random_state=101)\n",
    "\n",
    "#train a model\n",
    "rf = RandomForestClassifier(n_estimators=100)\n",
    "rf.fit(X_train,y_train)\n",
    "\n",
    "#Variable importance table\n",
    "feature_imp = pd.Series(rf.feature_importances_,index=X_train.columns).sort_values(ascending=False)\n",
    "\n",
    "#make prediction of test dataset\n",
    "predictions_randf = rf.predict(X_valid)\n",
    "auc = roc_auc_score(y_valid, predictions_randf)\n",
    "auc"
   ]
  },
  {
   "cell_type": "code",
   "execution_count": 25,
   "metadata": {},
   "outputs": [
    {
     "data": {
      "text/plain": [
       "0.9494949494949495"
      ]
     },
     "execution_count": 25,
     "metadata": {},
     "output_type": "execute_result"
    }
   ],
   "source": [
    "F1score = f1_score(y_valid, predictions_randf)\n",
    "F1score"
   ]
  },
  {
   "cell_type": "code",
   "execution_count": 26,
   "metadata": {},
   "outputs": [
    {
     "data": {
      "text/plain": [
       "0.9882422104644327"
      ]
     },
     "execution_count": 26,
     "metadata": {},
     "output_type": "execute_result"
    }
   ],
   "source": [
    "Accscore = accuracy_score(y_valid, predictions_randf)\n",
    "Accscore"
   ]
  },
  {
   "cell_type": "code",
   "execution_count": null,
   "metadata": {},
   "outputs": [],
   "source": []
  }
 ],
 "metadata": {
  "kernelspec": {
   "display_name": "Python 3",
   "language": "python",
   "name": "python3"
  },
  "language_info": {
   "codemirror_mode": {
    "name": "ipython",
    "version": 3
   },
   "file_extension": ".py",
   "mimetype": "text/x-python",
   "name": "python",
   "nbconvert_exporter": "python",
   "pygments_lexer": "ipython3",
   "version": "3.7.1"
  }
 },
 "nbformat": 4,
 "nbformat_minor": 2
}
